{
 "cells": [
  {
   "cell_type": "code",
   "execution_count": 1,
   "id": "7e915d15-13c7-44f9-942f-1c201a412a6c",
   "metadata": {},
   "outputs": [
    {
     "name": "stdout",
     "output_type": "stream",
     "text": [
      "emotion\n",
      "3    8989\n",
      "6    6198\n",
      "4    6077\n",
      "2    5121\n",
      "0    4953\n",
      "5    4002\n",
      "1     547\n",
      "Name: count, dtype: int64\n"
     ]
    }
   ],
   "source": [
    "import pandas as pd\n",
    "\n",
    "# Load the dataset\n",
    "df = pd.read_csv('fer2013.csv')\n",
    "\n",
    "# Check class distribution\n",
    "print(df['emotion'].value_counts())\n"
   ]
  },
  {
   "cell_type": "code",
   "execution_count": 2,
   "id": "21ada9bd-4ccb-412c-8f8e-cd583b2b8df0",
   "metadata": {},
   "outputs": [],
   "source": [
    "TARGET_COUNT = 5000\n"
   ]
  },
  {
   "cell_type": "code",
   "execution_count": 3,
   "id": "49e35689-ab39-4ead-b461-4a7fb100a3b3",
   "metadata": {},
   "outputs": [
    {
     "name": "stdout",
     "output_type": "stream",
     "text": [
      "emotion\n",
      "6    5000\n",
      "2    5000\n",
      "4    5000\n",
      "5    5000\n",
      "0    5000\n",
      "3    5000\n",
      "1    5000\n",
      "Name: count, dtype: int64\n"
     ]
    }
   ],
   "source": [
    "import numpy as np\n",
    "\n",
    "# Store balanced dataframes\n",
    "balanced_data = []\n",
    "\n",
    "# Loop through all emotion labels\n",
    "for emotion_label in df['emotion'].unique():\n",
    "    class_subset = df[df['emotion'] == emotion_label]\n",
    "    current_count = len(class_subset)\n",
    "    \n",
    "    if current_count > TARGET_COUNT:\n",
    "        # Downsample\n",
    "        balanced = class_subset.sample(n=TARGET_COUNT, random_state=42)\n",
    "    elif current_count < TARGET_COUNT:\n",
    "        # Upsample with replacement\n",
    "        balanced = class_subset.sample(n=TARGET_COUNT, replace=True, random_state=42)\n",
    "    else:\n",
    "        balanced = class_subset\n",
    "    \n",
    "    balanced_data.append(balanced)\n",
    "\n",
    "# Concatenate all balanced class data\n",
    "balanced_df = pd.concat(balanced_data).sample(frac=1, random_state=42).reset_index(drop=True)\n",
    "\n",
    "# Check new distribution\n",
    "print(balanced_df['emotion'].value_counts())\n"
   ]
  },
  {
   "cell_type": "code",
   "execution_count": 4,
   "id": "ecf8440d-b64b-4a08-b6a5-60d739e3e1a3",
   "metadata": {},
   "outputs": [],
   "source": [
    "balanced_df.to_csv('fer2013_balanced_5000.csv', index=False)\n"
   ]
  }
 ],
 "metadata": {
  "kernelspec": {
   "display_name": "Python 3 (ipykernel)",
   "language": "python",
   "name": "python3"
  },
  "language_info": {
   "codemirror_mode": {
    "name": "ipython",
    "version": 3
   },
   "file_extension": ".py",
   "mimetype": "text/x-python",
   "name": "python",
   "nbconvert_exporter": "python",
   "pygments_lexer": "ipython3",
   "version": "3.12.7"
  }
 },
 "nbformat": 4,
 "nbformat_minor": 5
}
